{
 "cells": [
  {
   "cell_type": "markdown",
   "metadata": {},
   "source": [
    "### Part 1 Rule 184"
   ]
  },
  {
   "cell_type": "markdown",
   "metadata": {},
   "source": [
    "Rule 184 is a one-dimensional binary cellular automaton rule.  It could be used in traffic flow simulation:  \n",
    "\n",
    "\\begin{equation}\\label{184}\n",
    "n_i(t+1)=n_{i-1}[1-n_i(t)]+n_i(t)n_{i+1},\n",
    "\\end{equation}\n",
    "\n",
    "where $n_i(t)$ is the state of the cell $i$.  $n_i(t)=1$ means it is occupied and $n_i(t)=0$ means it is empty.  Cell $i-1$ is the previous cell and cell $i+1$ is the target cell.  From the equation, one knows vehicles move forward if there is open space in front of them, and otherwise they stop."
   ]
  },
  {
   "cell_type": "markdown",
   "metadata": {},
   "source": [
    "### Part 2 The network"
   ]
  },
  {
   "cell_type": "markdown",
   "metadata": {},
   "source": [
    "In this project, we apply the idea of Rule 184 to a single intersection with different control types.  Different control types set different rules of changing states of the cells at the intersection."
   ]
  },
  {
   "cell_type": "markdown",
   "metadata": {},
   "source": [
    "### Part 3 The code"
   ]
  },
  {
   "cell_type": "markdown",
   "metadata": {},
   "source": [
    "First, we will define directions in the system.\n",
    "Here, 0 is North, and add the number by 1 will change the direction clockwise and vise versa. This makes it easy to operate the turning movement by simple calculatation and taking the reminder of 4.\n",
    "\n",
    "A python dictonary is used here to record possible directions of a given road block. If going to this direction on the road block is possible, the dictonary will return the change in coordinate in respect of y and x. Otherwise it will return a None object. \n"
   ]
  },
  {
   "cell_type": "code",
   "execution_count": 1,
   "metadata": {},
   "outputs": [],
   "source": [
    "# direction of road block\n",
    "'''\n",
    "Direction 0: North 1: East  2: South 3: West \n",
    "'''\n",
    "N = {0: [-1, 0], 1: None, 2: None, 3: None}\n",
    "W = {0: None, 1: None, 2: None, 3: [0, -1]}\n",
    "S = {0: None, 1: None, 2: [1, 0], 3: None}\n",
    "E = {0: None, 1: [0, 1], 2: None, 3: None}\n",
    "\n",
    "NW = {0: [-1, 0], 1: None, 2: None, 3: [0, -1]}\n",
    "SW = {0: None, 1: None, 2: [1, 0], 3: [0, -1]}\n",
    "SE = {0: None, 1: [0, 1], 2: [1, 0], 3: None}\n",
    "NE = {0: [-1, 0], 1: [0, 1], 2: None, 3: None}\n",
    "\n",
    "X = 'X'"
   ]
  },
  {
   "cell_type": "markdown",
   "metadata": {},
   "source": [
    "Second, we can define the car obejct. \n",
    "We need the following 3 arguments to define a car:\n",
    "\n",
    "(i) `comm`: command of the driver. This indecates where the driver wants to go. It is repersented by a string. 'L', 'R', and 'D' repersent Left, Right and Direct respectively. \n",
    "\n",
    "(ii) `delay`: the driver will to turn to desired direction at a delayed time. This is used for multi-intersection simulation. If this number is 1, the driver will skip the first chance to turn, and continue to the next chance to turn. \n",
    "\n",
    "(iii) `direction`：the original direction of the car.\n",
    "\n",
    "Also, we will need one flag to mark whether the car is being moved or not in this turn of each update."
   ]
  },
  {
   "cell_type": "code",
   "execution_count": 2,
   "metadata": {},
   "outputs": [],
   "source": [
    "class car(object):\n",
    "\tdef __init__(self, comm, delay, direction):\n",
    "\t\tself.direction = direction\n",
    "\t\tif comm == 'L':\n",
    "\t\t\tself.comm = (direction - 1) % 4\n",
    "\t\tif comm == 'R':\n",
    "\t\t\tself.comm = (direction + 1) % 4\n",
    "\t\telif comm == 'D':\n",
    "\t\t\tself.comm = direction\n",
    "\t\tself.delay = delay\n",
    "\t\tself.moved = False\n"
   ]
  },
  {
   "cell_type": "markdown",
   "metadata": {},
   "source": [
    "Thirdly, we will have to define the road block object. This is the basic compoment of map. \n",
    "\n",
    "They is only one required proporty of the road: direction. This is the road block direction as dictionary that we defined before. \n",
    "\n",
    "Road blocks can have different functionallities. \n",
    "\n",
    "(1) If a road block is a respawn point, this road block will automatically regenerate new cars. Here we need:\n",
    "\n",
    "`spawnint`- respawn interval as a intger\n",
    "\n",
    "`spawndir`- respawn direction as a integer. (0: North 1: East  2: South 3: West)\n",
    "\n",
    "The generated vehicle has pre-set a left and right-turn rate of 0.1, and go-stright rate of 0.8.\n",
    "\n",
    "(2) If a road block is a traffic light, it will stop the vehicle at red. The traffic light requires three argument: \n",
    "(i) `trafficlight`- green light duration, as a integer \n",
    "(ii) `trafficlight_stop`- red light duration, as a integer\n",
    "(iii) `trafficlightinit`- the initial state of light, as a boolean\n",
    "\n",
    "\n",
    "Also, we need some basic operation of the road block. \n",
    "`put_car(car)` takes a car object, and place it on the road.\n",
    "`pop_car()` remove the current car, and return the car object.\n",
    "those functions are used to update the state.\n",
    "\n"
   ]
  },
  {
   "cell_type": "code",
   "execution_count": 3,
   "metadata": {},
   "outputs": [],
   "source": [
    "class road(object):\n",
    "\tdef __init__(self, dir, spawnint=None, spawndir=None, spawndelay=0, trafficlight=None, trafficlight_stop=0, trafficlightinit = True):\n",
    "\t\tself.car = None\n",
    "\t\tself.dir = dir\n",
    "\n",
    "\t\tself.spawn = spawnint\n",
    "\t\tif spawnint != None:\n",
    "\t\t\tself.spawncounter = spawndelay\n",
    "\t\t\tself.Lrate = 0.1\n",
    "\t\t\tself.Rrate = 0.1\n",
    "\t\t\tself.Drate = 0.8\n",
    "\t\t\tself.spawndir = spawndir\n",
    "\n",
    "\t\tself.trafficlight = trafficlight\n",
    "\n",
    "\n",
    "\t\tif trafficlight:\n",
    "\t\t\tself.trafficlight_stat = trafficlightinit\n",
    "\t\t\tself.trafficlight_go_period = trafficlight\n",
    "\t\t\tself.trafficlight_stop_period = trafficlight_stop\n",
    "\t\t\tself.trafficlight_counter = trafficlight\n",
    "\n",
    "\tdef add_car(self, car):\n",
    "\t\tself.car = car\n",
    "\n",
    "\tdef pop_car(self):\n",
    "\t\tout = self.car\n",
    "\t\tself.car = None\n",
    "\t\treturn out\n",
    "\n",
    "\tdef __str__(self):\n",
    "\t\tif self.car == None:\n",
    "\t\t\treturn 'N'\n",
    "\t\telse:\n",
    "\t\t\treturn str(self.car.comm)"
   ]
  },
  {
   "cell_type": "markdown",
   "metadata": {},
   "source": [
    "Lastly, it is the main map object. To create a map object, you will need a 2D array. Each element in the array could be a road block object (with des function), or a string 'X' to repersent there is no road in this block. \n",
    "\n",
    "Here's some defination of functions in map object:\n",
    "\n",
    "`put_car(coordy, coordx, carcomm, cardelay, cardir)`: manually put a car with given perpority (carcomm, cardelay, cardir) at given place(coordy, coordx)\n",
    "\n",
    "`update()`: update the state of the map.\n",
    "\n",
    "`construct_ref()`: construct a reference matrix of the road condition. This is used to in the update() function to avoid double-count.\n",
    "\n",
    "`update_and_plot(n_iter`): using matplotlib to plot and live update the situation of the map for given interations (n_iter). \n",
    "\n",
    "Also, call python `print()` function on map object will return current state of map, repersented as a string. Here is a example:\n",
    "\n",
    "\n",
    "```\n",
    "\tX\tX\tX\t2\tN\tX\tX\tX\n",
    "\tX\tX\tN\t3\tN\tX\tX\tX\n",
    "\tX\tX\tN\tN\tN\tN\tN\tX\n",
    "\tN\t3\tN\t3\tN\t3\t3\t3\n",
    "\t0\t0\t1\tN\t0\tN\tN\tN\n",
    "\tX\tN\tN\tN\tN\tN\tX\tX\n",
    "\tX\tX\tX\tN\t0\tN\tX\tX\n",
    "\tX\tX\tX\t2\t0\tX\tX\tX\n",
    "```\n",
    "\n",
    "Where:\n",
    "\n",
    "`X`: no road \n",
    "\n",
    "`N`: empty road \n",
    "\n",
    "`0`,`1`,`2`,`3`: car on road. the number repersent the desired travel direction of car\n",
    "\n",
    "\n"
   ]
  },
  {
   "cell_type": "code",
   "execution_count": 4,
   "metadata": {},
   "outputs": [],
   "source": [
    "class map(object):\n",
    "\tdef __init__(self, input_arr):\n",
    "\t\tself.cellmap = input_arr\n",
    "\t\tself.max_y = len(input_arr)\n",
    "\t\tself.max_x = len(input_arr[0])\n",
    "\t\tself.systime = 0\n",
    "\t\tself.spawncount = 0\n",
    "\t\tself.exitcount = 0\n",
    "\n",
    "\tdef put_car(self, coordy, coordx, carcomm, cardelay, cardir):\n",
    "\t\tself.cellmap[coordy][coordx].add_car(car(carcomm, cardelay, cardir))\n",
    "\n",
    "\tdef update(self):\n",
    "\t\tself.systime += 1\n",
    "\t\tref_cellmap = self.construct_ref()\n",
    "\t\t# set all cars unmoved.\n",
    "\t\tfor y in range(self.max_y):\n",
    "\t\t\tfor x in range(self.max_x):\n",
    "\t\t\t\tcell = self.cellmap[y][x]\n",
    "\t\t\t\tif cell != X:  # is a road\n",
    "\t\t\t\t\tif cell.car:  # has a car\n",
    "\t\t\t\t\t\tcell.car.moved = False\n",
    "\n",
    "\t\tfor y in range(self.max_y):\n",
    "\t\t\tfor x in range(self.max_x):\n",
    "\t\t\t\tcell = self.cellmap[y][x]\n",
    "\t\t\t\tif cell != X:  # is a road\n",
    "\t\t\t\t\tif cell.car:  # has a car, hasn't moved\n",
    "\t\t\t\t\t\tif cell.car.moved:\n",
    "\t\t\t\t\t\t\tcontinue\n",
    "\t\t\t\t\t\tcell.car.moved = True\n",
    "\t\t\t\t\t\tif cell.dir[cell.car.comm] == None:  # can not execute turn\n",
    "\t\t\t\t\t\t\tny = y + cell.dir[cell.car.direction][0]\n",
    "\t\t\t\t\t\t\tnx = x + cell.dir[cell.car.direction][1]\n",
    "\t\t\t\t\t\telse:\n",
    "\t\t\t\t\t\t\tny = y + cell.dir[cell.car.comm][0]\n",
    "\t\t\t\t\t\t\tnx = x + cell.dir[cell.car.comm][1]\n",
    "\t\t\t\t\t\tif nx < 0 or nx > self.max_x - 1 or ny < 0 or ny > self.max_y - 1:\n",
    "\t\t\t\t\t\t\t# go out of map\n",
    "\t\t\t\t\t\t\tcell.pop_car()\n",
    "\t\t\t\t\t\t\tself.exitcount += 1\n",
    "\t\t\t\t\t\telse:\n",
    "\t\t\t\t\t\t\tnext_cell = self.cellmap[ny][nx]\n",
    "\t\t\t\t\t\t\tref_next_cell = ref_cellmap[ny][nx]\n",
    "\n",
    "\t\t\t\t\t\t\tif ref_next_cell == 0:\n",
    "\t\t\t\t\t\t\t\tif cell.trafficlight:\n",
    "\t\t\t\t\t\t\t\t\tif cell.trafficlight_stat == True:\n",
    "\t\t\t\t\t\t\t\t\t\tmove_car = cell.pop_car()\n",
    "\t\t\t\t\t\t\t\t\t\tnext_cell.add_car(move_car)\n",
    "\t\t\t\t\t\t\t\telse:\n",
    "\t\t\t\t\t\t\t\t\tmove_car = cell.pop_car()\n",
    "\t\t\t\t\t\t\t\t\tnext_cell.add_car(move_car)\n",
    "\n",
    "\t\t\t\t\tif cell.spawn != None:  # is a spawn point\n",
    "\t\t\t\t\t\tif cell.spawncounter != 0:  # not yet the time\n",
    "\t\t\t\t\t\t\tcell.spawncounter -= 1\n",
    "\t\t\t\t\t\telse:  # it's the time\n",
    "\t\t\t\t\t\t\trefmap_spawn = self.construct_ref()\n",
    "\t\t\t\t\t\t\tif refmap_spawn[y][x] == 0:\n",
    "\t\t\t\t\t\t\t\tcell.spawncounter = cell.spawn\n",
    "\t\t\t\t\t\t\t\tspawncomm = np.random.choice(['L', 'R', 'D'], 1, p=[cell.Lrate, cell.Rrate, cell.Drate])\n",
    "\t\t\t\t\t\t\t\tself.put_car(y, x, spawncomm, 0, cell.spawndir)\n",
    "\t\t\t\t\t\t\t\tself.spawncount += 1\n",
    "\n",
    "\t\t\t\t\tif cell.trafficlight:\n",
    "\t\t\t\t\t\t#change state:\n",
    "\t\t\t\t\t\tif cell.trafficlight_counter != 0:\n",
    "\t\t\t\t\t\t\tcell.trafficlight_counter -= 1\n",
    "\t\t\t\t\t\telse:\n",
    "\t\t\t\t\t\t\tif cell.trafficlight_stat == True:\n",
    "\t\t\t\t\t\t\t\tcell.trafficlight_stat = False\n",
    "\t\t\t\t\t\t\t\tcell.trafficlight_counter = cell.trafficlight_stop_period\n",
    "\t\t\t\t\t\t\telse:\n",
    "\t\t\t\t\t\t\t\tcell.trafficlight_stat = True\n",
    "\t\t\t\t\t\t\t\tcell.trafficlight_counter = cell.trafficlight_go_period\n",
    "\n",
    "\n",
    "\n",
    "\n",
    "\n",
    "\tdef construct_ref(self):\n",
    "\t\tref_cellmap = []\n",
    "\t\tfor item in self.cellmap:\n",
    "\t\t\tref_cellmap.append(item.copy())\n",
    "\t\tfor y in range(self.max_y):\n",
    "\t\t\tfor x in range(self.max_x):\n",
    "\t\t\t\tcell = self.cellmap[y][x]\n",
    "\t\t\t\tif cell != X:  # is a road\n",
    "\t\t\t\t\tif cell.car == None:\n",
    "\t\t\t\t\t\tref_cellmap[y][x] = 0\n",
    "\t\t\t\t\telse:\n",
    "\t\t\t\t\t\tref_cellmap[y][x] = 1\n",
    "\t\treturn ref_cellmap\n",
    "\n",
    "\tdef update_and_plot(self, n_iter):\n",
    "\n",
    "\t\t# plt.ion()\n",
    "\t\tplt.ion()\n",
    "\t\tfor _ in range(n_iter):\n",
    "\t\t\tself.update()\n",
    "\t\t\tplot_cellmap = np.zeros((self.max_y, self.max_x))\n",
    "\t\t\tfor y in range(self.max_y):\n",
    "\t\t\t\tfor x in range(self.max_x):\n",
    "\t\t\t\t\tcell = self.cellmap[y][x]\n",
    "\t\t\t\t\tif cell != X:  # is a road\n",
    "\t\t\t\t\t\tif cell.car:  # has a car\n",
    "\t\t\t\t\t\t\tplot_cellmap[y, x] = 2\n",
    "\t\t\t\t\t\telse:\n",
    "\t\t\t\t\t\t\tplot_cellmap[y, x] = 1\n",
    "\n",
    "\t\t\tplt.title('Iter :{}'.format(self.systime))\n",
    "\t\t\tplt.imshow(plot_cellmap)\n",
    "\t\t\tplt.pause(0.2)\n",
    "\t\tplt.ioff()\n",
    "\n",
    "\tdef plot(self):\n",
    "\t\tplot_cellmap = np.zeros((self.max_y, self.max_x))\n",
    "\t\tfor y in range(self.max_y):\n",
    "\t\t\tfor x in range(self.max_x):\n",
    "\t\t\t\tcell = self.cellmap[y][x]\n",
    "\t\t\t\tif cell != X:  # is a road\n",
    "\t\t\t\t\tif cell.car:  # has a car\n",
    "\t\t\t\t\t\tplot_cellmap[y, x] = 2\n",
    "\t\t\t\t\telse:\n",
    "\t\t\t\t\t\tplot_cellmap[y, x] = 1\n",
    "\t\tplt.imshow(plot_cellmap)\n",
    "\t\tplt.show()"
   ]
  },
  {
   "cell_type": "markdown",
   "metadata": {},
   "source": [
    "### Part 4 1-D Simulation"
   ]
  },
  {
   "cell_type": "markdown",
   "metadata": {},
   "source": [
    "Before we implement the model on the 2-D road, let us show how the Rule 184 works on a one lane road.  Here is a one-lane eastbound road, which consists of 8 blocks.  Cars enter the road from west (block 0).  \n",
    "\n",
    "If at time $t$, there is a car on block $i$, i.e. $n_i(t)=1$, then the block $i$ is shown in yellow. \n",
    "\n",
    "If at time $t$, there is no car on block $i$, i.e. $n_i(t)=0$, then the block $i$ is shown in purple. \n",
    "\n",
    "In the example below, we show how the system evolves from $t=0$ to $t=7$ base on rule 184."
   ]
  },
  {
   "cell_type": "code",
   "execution_count": 6,
   "metadata": {
    "scrolled": true
   },
   "outputs": [
    {
     "name": "stdout",
     "output_type": "stream",
     "text": [
      "time 0\n"
     ]
    },
    {
     "data": {
      "image/png": "[encoded data removed]",
      "text/plain": [
       "<Figure size 432x288 with 1 Axes>"
      ]
     },
     "metadata": {
      "needs_background": "light"
     },
     "output_type": "display_data"
    },
    {
     "name": "stdout",
     "output_type": "stream",
     "text": [
      "time 1\n"
     ]
    },
    {
     "data": {
      "image/png": "[encoded data removed]",
      "text/plain": [
       "<Figure size 432x288 with 1 Axes>"
      ]
     },
     "metadata": {
      "needs_background": "light"
     },
     "output_type": "display_data"
    },
    {
     "name": "stdout",
     "output_type": "stream",
     "text": [
      "time 2\n"
     ]
    },
    {
     "data": {
      "image/png": "[encoded data removed]",
      "text/plain": [
       "<Figure size 432x288 with 1 Axes>"
      ]
     },
     "metadata": {
      "needs_background": "light"
     },
     "output_type": "display_data"
    },
    {
     "name": "stdout",
     "output_type": "stream",
     "text": [
      "time 3\n"
     ]
    },
    {
     "data": {
      "image/png": "[encoded data removed]",
      "text/plain": [
       "<Figure size 432x288 with 1 Axes>"
      ]
     },
     "metadata": {
      "needs_background": "light"
     },
     "output_type": "display_data"
    },
    {
     "name": "stdout",
     "output_type": "stream",
     "text": [
      "time 4\n"
     ]
    },
    {
     "data": {
      "image/png": "[encoded data removed]",
      "text/plain": [
       "<Figure size 432x288 with 1 Axes>"
      ]
     },
     "metadata": {
      "needs_background": "light"
     },
     "output_type": "display_data"
    },
    {
     "name": "stdout",
     "output_type": "stream",
     "text": [
      "time 5\n"
     ]
    },
    {
     "data": {
      "image/png": "[encoded data removed]",
      "text/plain": [
       "<Figure size 432x288 with 1 Axes>"
      ]
     },
     "metadata": {
      "needs_background": "light"
     },
     "output_type": "display_data"
    },
    {
     "name": "stdout",
     "output_type": "stream",
     "text": [
      "time 6\n"
     ]
    },
    {
     "data": {
      "image/png": "[encoded data removed]",
      "text/plain": [
       "<Figure size 432x288 with 1 Axes>"
      ]
     },
     "metadata": {
      "needs_background": "light"
     },
     "output_type": "display_data"
    },
    {
     "name": "stdout",
     "output_type": "stream",
     "text": [
      "time 7\n"
     ]
    },
    {
     "data": {
      "image/png": "[encoded data removed]",
      "text/plain": [
       "<Figure size 432x288 with 1 Axes>"
      ]
     },
     "metadata": {
      "needs_background": "light"
     },
     "output_type": "display_data"
    }
   ],
   "source": [
    "import numpy as np\n",
    "import matplotlib.pyplot as plt\n",
    "\n",
    "# define road input here\n",
    "input_map = [\n",
    "    [road(E, 0, 1), road(E), road(E), road(E), road(E), road(E), road(E), road(E)]\n",
    "]\n",
    "\n",
    "game = map(input_map)\n",
    "for x in range(8):\n",
    "    game.update()\n",
    "    print (\"time\",x)\n",
    "    game.plot()"
   ]
  },
  {
   "cell_type": "markdown",
   "metadata": {},
   "source": [
    "### Part 5 Traffic simulation at an intersection"
   ]
  },
  {
   "cell_type": "markdown",
   "metadata": {},
   "source": [
    "To simulate traffic at an intersection.  We simply need to change the input map in the code.  Now we have an intersection with four approaches.  Vehicles have a 80% probability to go straight at the intersection, 10% to turn left and 10% to turn right. \n"
   ]
  },
  {
   "cell_type": "markdown",
   "metadata": {},
   "source": [
    "### Case 1: No control\n",
    "\n",
    "We run the simulation with different vehicle spawn rate (traffic flow entry rate)."
   ]
  },
  {
   "cell_type": "markdown",
   "metadata": {},
   "source": [
    "#### Visulization"
   ]
  },
  {
   "cell_type": "markdown",
   "metadata": {},
   "source": [
    "#### Low spawn rate"
   ]
  },
  {
   "cell_type": "code",
   "execution_count": 7,
   "metadata": {},
   "outputs": [
    {
     "name": "stdout",
     "output_type": "stream",
     "text": [
      "time 0\n"
     ]
    },
    {
     "data": {
      "image/png": "[encoded data removed]",
      "text/plain": [
       "<Figure size 432x288 with 1 Axes>"
      ]
     },
     "metadata": {
      "needs_background": "light"
     },
     "output_type": "display_data"
    },
    {
     "name": "stdout",
     "output_type": "stream",
     "text": [
      "time 1\n"
     ]
    },
    {
     "data": {
      "image/png": "[encoded data removed]",
      "text/plain": [
       "<Figure size 432x288 with 1 Axes>"
      ]
     },
     "metadata": {
      "needs_background": "light"
     },
     "output_type": "display_data"
    },
    {
     "name": "stdout",
     "output_type": "stream",
     "text": [
      "time 2\n"
     ]
    },
    {
     "data": {
      "image/png": "[encoded data removed]",
      "text/plain": [
       "<Figure size 432x288 with 1 Axes>"
      ]
     },
     "metadata": {
      "needs_background": "light"
     },
     "output_type": "display_data"
    },
    {
     "name": "stdout",
     "output_type": "stream",
     "text": [
      "time 3\n"
     ]
    },
    {
     "data": {
      "image/png": "[encoded data removed]",
      "text/plain": [
       "<Figure size 432x288 with 1 Axes>"
      ]
     },
     "metadata": {
      "needs_background": "light"
     },
     "output_type": "display_data"
    },
    {
     "name": "stdout",
     "output_type": "stream",
     "text": [
      "time 4\n"
     ]
    },
    {
     "data": {
      "image/png": "[encoded data removed]",
      "text/plain": [
       "<Figure size 432x288 with 1 Axes>"
      ]
     },
     "metadata": {
      "needs_background": "light"
     },
     "output_type": "display_data"
    },
    {
     "name": "stdout",
     "output_type": "stream",
     "text": [
      "time 5\n"
     ]
    },
    {
     "data": {
      "image/png": "[encoded data removed]",
      "text/plain": [
       "<Figure size 432x288 with 1 Axes>"
      ]
     },
     "metadata": {
      "needs_background": "light"
     },
     "output_type": "display_data"
    },
    {
     "name": "stdout",
     "output_type": "stream",
     "text": [
      "time 6\n"
     ]
    },
    {
     "data": {
      "image/png": "[encoded data removed]",
      "text/plain": [
       "<Figure size 432x288 with 1 Axes>"
      ]
     },
     "metadata": {
      "needs_background": "light"
     },
     "output_type": "display_data"
    },
    {
     "name": "stdout",
     "output_type": "stream",
     "text": [
      "time 7\n"
     ]
    },
    {
     "data": {
      "image/png": "[encoded data removed]",
      "text/plain": [
       "<Figure size 432x288 with 1 Axes>"
      ]
     },
     "metadata": {
      "needs_background": "light"
     },
     "output_type": "display_data"
    },
    {
     "name": "stdout",
     "output_type": "stream",
     "text": [
      "time 8\n"
     ]
    },
    {
     "data": {
      "image/png": "[encoded data removed]",
      "text/plain": [
       "<Figure size 432x288 with 1 Axes>"
      ]
     },
     "metadata": {
      "needs_background": "light"
     },
     "output_type": "display_data"
    },
    {
     "name": "stdout",
     "output_type": "stream",
     "text": [
      "time 9\n"
     ]
    },
    {
     "data": {
      "image/png": "[encoded data removed]",
      "text/plain": [
       "<Figure size 432x288 with 1 Axes>"
      ]
     },
     "metadata": {
      "needs_background": "light"
     },
     "output_type": "display_data"
    }
   ],
   "source": [
    "input_map = [[X, X, X, road(S, 10, 2, spawndelay = 3), road(N), X, X, X],\n",
    "\t\t\t\t [X, X, X, road(S), road(N), X, X, X],\n",
    "\t\t\t\t [X, X, X, road(S), road(N), X, X, X],\n",
    "\t\t\t\t [road(W), road(W), road(W), road(SW), road(NW), road(W), road(W), road(W, 10, 3, spawndelay = 7)],\n",
    "\t\t\t\t [road(E, 10, 1, spawndelay = 2), road(E), road(E), road(SE), road(NE), road(E), road(E), road(E)],\n",
    "\t\t\t\t [X, X, X, road(S), road(N), X, X, X],\n",
    "\t\t\t\t [X, X, X, road(S), road(N), X, X, X],\n",
    "\t\t\t\t [X, X, X, road(S), road(N, 3, 0), X, X, X]\n",
    "\t\t\t\t ]\n",
    "\n",
    "game = map(input_map)\n",
    "\n",
    "for x in range(10):\n",
    "    game.update()\n",
    "    print (\"time\",x)\n",
    "    game.plot()"
   ]
  },
  {
   "cell_type": "markdown",
   "metadata": {},
   "source": [
    "#### Median spawn rate"
   ]
  },
  {
   "cell_type": "code",
   "execution_count": 8,
   "metadata": {},
   "outputs": [
    {
     "name": "stdout",
     "output_type": "stream",
     "text": [
      "time 0\n"
     ]
    },
    {
     "data": {
      "image/png": "[encoded data removed]",
      "text/plain": [
       "<Figure size 432x288 with 1 Axes>"
      ]
     },
     "metadata": {
      "needs_background": "light"
     },
     "output_type": "display_data"
    },
    {
     "name": "stdout",
     "output_type": "stream",
     "text": [
      "time 1\n"
     ]
    },
    {
     "data": {
      "image/png": "[encoded data removed]",
      "text/plain": [
       "<Figure size 432x288 with 1 Axes>"
      ]
     },
     "metadata": {
      "needs_background": "light"
     },
     "output_type": "display_data"
    },
    {
     "name": "stdout",
     "output_type": "stream",
     "text": [
      "time 2\n"
     ]
    },
    {
     "data": {
      "image/png": "[encoded data removed]",
      "text/plain": [
       "<Figure size 432x288 with 1 Axes>"
      ]
     },
     "metadata": {
      "needs_background": "light"
     },
     "output_type": "display_data"
    },
    {
     "name": "stdout",
     "output_type": "stream",
     "text": [
      "time 3\n"
     ]
    },
    {
     "data": {
      "image/png": "[encoded data removed]",
      "text/plain": [
       "<Figure size 432x288 with 1 Axes>"
      ]
     },
     "metadata": {
      "needs_background": "light"
     },
     "output_type": "display_data"
    },
    {
     "name": "stdout",
     "output_type": "stream",
     "text": [
      "time 4\n"
     ]
    },
    {
     "data": {
      "image/png": "[encoded data removed]",
      "text/plain": [
       "<Figure size 432x288 with 1 Axes>"
      ]
     },
     "metadata": {
      "needs_background": "light"
     },
     "output_type": "display_data"
    },
    {
     "name": "stdout",
     "output_type": "stream",
     "text": [
      "time 5\n"
     ]
    },
    {
     "data": {
      "image/png": "[encoded data removed]",
      "text/plain": [
       "<Figure size 432x288 with 1 Axes>"
      ]
     },
     "metadata": {
      "needs_background": "light"
     },
     "output_type": "display_data"
    },
    {
     "name": "stdout",
     "output_type": "stream",
     "text": [
      "time 6\n"
     ]
    },
    {
     "data": {
      "image/png": "[encoded data removed]",
      "text/plain": [
       "<Figure size 432x288 with 1 Axes>"
      ]
     },
     "metadata": {
      "needs_background": "light"
     },
     "output_type": "display_data"
    },
    {
     "name": "stdout",
     "output_type": "stream",
     "text": [
      "time 7\n"
     ]
    },
    {
     "data": {
      "image/png": "[encoded data removed]",
      "text/plain": [
       "<Figure size 432x288 with 1 Axes>"
      ]
     },
     "metadata": {
      "needs_background": "light"
     },
     "output_type": "display_data"
    },
    {
     "name": "stdout",
     "output_type": "stream",
     "text": [
      "time 8\n"
     ]
    },
    {
     "data": {
      "image/png": "[encoded data removed]",
      "text/plain": [
       "<Figure size 432x288 with 1 Axes>"
      ]
     },
     "metadata": {
      "needs_background": "light"
     },
     "output_type": "display_data"
    },
    {
     "name": "stdout",
     "output_type": "stream",
     "text": [
      "time 9\n"
     ]
    },
    {
     "data": {
      "image/png": "[encoded data removed]",
      "text/plain": [
       "<Figure size 432x288 with 1 Axes>"
      ]
     },
     "metadata": {
      "needs_background": "light"
     },
     "output_type": "display_data"
    }
   ],
   "source": [
    "input_map = [[X, X, X, road(S, 3, 2, spawndelay = 3), road(N), X, X, X],\n",
    "\t\t\t\t [X, X, X, road(S), road(N), X, X, X],\n",
    "\t\t\t\t [X, X, X, road(S), road(N), X, X, X],\n",
    "\t\t\t\t [road(W), road(W), road(W), road(SW), road(NW), road(W), road(W), road(W, 3, 3, spawndelay = 2)],\n",
    "\t\t\t\t [road(E, 3, 1, spawndelay = 2), road(E), road(E), road(SE), road(NE), road(E), road(E), road(E)],\n",
    "\t\t\t\t [X, X, X, road(S), road(N), X, X, X],\n",
    "\t\t\t\t [X, X, X, road(S), road(N), X, X, X],\n",
    "\t\t\t\t [X, X, X, road(S), road(N, 3, 0), X, X, X]\n",
    "\t\t\t\t ]\n",
    "\n",
    "game = map(input_map)\n",
    "\n",
    "for x in range(10):\n",
    "    game.update()\n",
    "    print (\"time\",x)\n",
    "    game.plot()"
   ]
  },
  {
   "cell_type": "markdown",
   "metadata": {},
   "source": [
    "#### High spawn rate"
   ]
  },
  {
   "cell_type": "code",
   "execution_count": 9,
   "metadata": {},
   "outputs": [
    {
     "name": "stdout",
     "output_type": "stream",
     "text": [
      "time 0\n"
     ]
    },
    {
     "data": {
      "image/png": "[encoded data removed]",
      "text/plain": [
       "<Figure size 432x288 with 1 Axes>"
      ]
     },
     "metadata": {
      "needs_background": "light"
     },
     "output_type": "display_data"
    },
    {
     "name": "stdout",
     "output_type": "stream",
     "text": [
      "time 1\n"
     ]
    },
    {
     "data": {
      "image/png": "[encoded data removed]",
      "text/plain": [
       "<Figure size 432x288 with 1 Axes>"
      ]
     },
     "metadata": {
      "needs_background": "light"
     },
     "output_type": "display_data"
    },
    {
     "name": "stdout",
     "output_type": "stream",
     "text": [
      "time 2\n"
     ]
    },
    {
     "data": {
      "image/png": "[encoded data removed]",
      "text/plain": [
       "<Figure size 432x288 with 1 Axes>"
      ]
     },
     "metadata": {
      "needs_background": "light"
     },
     "output_type": "display_data"
    },
    {
     "name": "stdout",
     "output_type": "stream",
     "text": [
      "time 3\n"
     ]
    },
    {
     "data": {
      "image/png": "[encoded data removed]",
      "text/plain": [
       "<Figure size 432x288 with 1 Axes>"
      ]
     },
     "metadata": {
      "needs_background": "light"
     },
     "output_type": "display_data"
    },
    {
     "name": "stdout",
     "output_type": "stream",
     "text": [
      "time 4\n"
     ]
    },
    {
     "data": {
      "image/png": "[encoded data removed]",
      "text/plain": [
       "<Figure size 432x288 with 1 Axes>"
      ]
     },
     "metadata": {
      "needs_background": "light"
     },
     "output_type": "display_data"
    },
    {
     "name": "stdout",
     "output_type": "stream",
     "text": [
      "time 5\n"
     ]
    },
    {
     "data": {
      "image/png": "[encoded data removed]",
      "text/plain": [
       "<Figure size 432x288 with 1 Axes>"
      ]
     },
     "metadata": {
      "needs_background": "light"
     },
     "output_type": "display_data"
    },
    {
     "name": "stdout",
     "output_type": "stream",
     "text": [
      "time 6\n"
     ]
    },
    {
     "data": {
      "image/png": "[encoded data removed]",
      "text/plain": [
       "<Figure size 432x288 with 1 Axes>"
      ]
     },
     "metadata": {
      "needs_background": "light"
     },
     "output_type": "display_data"
    },
    {
     "name": "stdout",
     "output_type": "stream",
     "text": [
      "time 7\n"
     ]
    },
    {
     "data": {
      "image/png": "[encoded data removed]",
      "text/plain": [
       "<Figure size 432x288 with 1 Axes>"
      ]
     },
     "metadata": {
      "needs_background": "light"
     },
     "output_type": "display_data"
    },
    {
     "name": "stdout",
     "output_type": "stream",
     "text": [
      "time 8\n"
     ]
    },
    {
     "data": {
      "image/png": "[encoded data removed]",
      "text/plain": [
       "<Figure size 432x288 with 1 Axes>"
      ]
     },
     "metadata": {
      "needs_background": "light"
     },
     "output_type": "display_data"
    },
    {
     "name": "stdout",
     "output_type": "stream",
     "text": [
      "time 9\n"
     ]
    },
    {
     "data": {
      "image/png": "[encoded data removed]",
      "text/plain": [
       "<Figure size 432x288 with 1 Axes>"
      ]
     },
     "metadata": {
      "needs_background": "light"
     },
     "output_type": "display_data"
    }
   ],
   "source": [
    "input_map = [[X, X, X, road(S, 1, 2, spawndelay = 0), road(N), X, X, X],\n",
    "\t\t\t\t [X, X, X, road(S), road(N), X, X, X],\n",
    "\t\t\t\t [X, X, X, road(S), road(N), X, X, X],\n",
    "\t\t\t\t [road(W), road(W), road(W), road(SW), road(NW), road(W), road(W), road(W, 1, 3, spawndelay = 0)],\n",
    "\t\t\t\t [road(E, 1, 1, spawndelay = 0), road(E), road(E), road(SE), road(NE), road(E), road(E), road(E)],\n",
    "\t\t\t\t [X, X, X, road(S), road(N), X, X, X],\n",
    "\t\t\t\t [X, X, X, road(S), road(N), X, X, X],\n",
    "\t\t\t\t [X, X, X, road(S), road(N, 1, 0), X, X, X]\n",
    "\t\t\t\t ]\n",
    "\n",
    "game = map(input_map)\n",
    "\n",
    "for x in range(10):\n",
    "    game.update()\n",
    "    print (\"time\",x)\n",
    "    game.plot()"
   ]
  },
  {
   "cell_type": "markdown",
   "metadata": {},
   "source": [
    "As we can see from the output, for an intersection with low traffic flow rate, we do not need to use traffic control.  However, when the traffic flow rate increases, significant delay can be noticed at the intersection.  When the traffic flow rate is high enough, the vehicles stuck at the intersection.  The results show that traffic control at intersection is needed."
   ]
  },
  {
   "cell_type": "markdown",
   "metadata": {},
   "source": [
    "#### Quantify the outflow"
   ]
  },
  {
   "cell_type": "markdown",
   "metadata": {},
   "source": [
    "The variable exitcount record the number of vehicles that exits the system.  We here define the function \"exitno\", such that given the spawn inteval and total simulation time, we can get the outflow of the system."
   ]
  },
  {
   "cell_type": "code",
   "execution_count": 10,
   "metadata": {},
   "outputs": [],
   "source": [
    "# calculate outflow for the no-control case for one time\n",
    "import random\n",
    "def exitno(n,time):\n",
    "    input_map = [[X, X, X, road(S, n, 2, spawndelay = random.randint(1,n)), road(N), X, X, X],\n",
    "\t\t\t\t [X, X, X, road(S), road(N), X, X, X],\n",
    "\t\t\t\t [X, X, X, road(S), road(N), X, X, X],\n",
    "\t\t\t\t [road(W), road(W), road(W), road(SW), road(NW), road(W), road(W), road(W, n, 3, spawndelay = random.randint(1,n))],\n",
    "\t\t\t\t [road(E, n, 1, spawndelay = random.randint(1,n)), road(E), road(E), road(SE), road(NE), road(E), road(E), road(E)],\n",
    "\t\t\t\t [X, X, X, road(S), road(N), X, X, X],\n",
    "\t\t\t\t [X, X, X, road(S), road(N), X, X, X],\n",
    "\t\t\t\t [X, X, X, road(S), road(N, n, 0, spawndelay = random.randint(1,n)), X, X, X]\n",
    "\t\t\t\t ]\n",
    "    game = map(input_map)\n",
    "    \n",
    "    for x in range(time):\n",
    "        game.update()\n",
    "    return game.exitcount   "
   ]
  },
  {
   "cell_type": "markdown",
   "metadata": {},
   "source": [
    "An example is given for how to calculate the outflow rate of the intersection in vehicle/hr.  For a 4-second spawn interval (spawn interval is 3 in the code), the flow rate of the intersection is estimated as 2337 vehicle/hr, using 20 repeated simulation runs.  The efficiency of the intersection can be calculated as outflow divided by inflow.  \n",
    "\n",
    "The inflow is $\\frac{3600 \\times 4}{spawn\\ interval}$ vehicles/hr\n",
    "\n",
    "(note: there are four entries)\n",
    "\n",
    "We get that the efficiency of the intersection for a 4-second vehicle spawn interval is around 65%."
   ]
  },
  {
   "cell_type": "code",
   "execution_count": 13,
   "metadata": {},
   "outputs": [
    {
     "name": "stdout",
     "output_type": "stream",
     "text": [
      "2337\n",
      "0.6491666666666667\n"
     ]
    }
   ],
   "source": [
    "# example for a 4-second vehicle spawn interval.  Taking the average of 20 runs\n",
    "import random\n",
    "sum = 0\n",
    "sims = 20 # number of repeat simulations\n",
    "time = 500 # simulation duration\n",
    "for x in range(sims):\n",
    "    exit = exitno(3,time)\n",
    "    sum += exit\n",
    "avg = sum/(sims*time)\n",
    "flow = round(avg * 3600) #change to vehicle/hr\n",
    "eff = flow / (14400 / (3+1))\n",
    "print(flow)\n",
    "print(eff)"
   ]
  },
  {
   "cell_type": "markdown",
   "metadata": {},
   "source": [
    "#### Draw flow-density curve"
   ]
  },
  {
   "cell_type": "markdown",
   "metadata": {},
   "source": [
    "In the curve, we can use vehicle density as our X variable.  To get the input vehicle denstity, $k=\\frac{q_{in}}{u}$.  \n",
    "\n",
    "In our case, $q_{in}=\\frac{14400}{spawn\\ interval}$.  \n",
    "\n",
    "A typical value of the free-flow speed $u$ is $60$ km/h. "
   ]
  },
  {
   "cell_type": "code",
   "execution_count": 14,
   "metadata": {},
   "outputs": [],
   "source": [
    "# calculate density\n",
    "def den(n):\n",
    "    return (14400/(60*(n+1)))"
   ]
  },
  {
   "cell_type": "markdown",
   "metadata": {},
   "source": [
    "The method to calculate outflow and effiency is taught in the last section."
   ]
  },
  {
   "cell_type": "code",
   "execution_count": 15,
   "metadata": {},
   "outputs": [],
   "source": [
    "# OUTFLOW (avg of 20 runs)\n",
    "def outflow(n):\n",
    "    sum = 0\n",
    "    sims = 20 # number of repeat simulations\n",
    "    time = 500 # simulation duration\n",
    "    for x in range(sims):\n",
    "        exit = exitno(n,time)\n",
    "        sum += exit\n",
    "    avg = sum/(sims*time)\n",
    "    flow = round(avg * 3600)\n",
    "    return flow\n",
    "\n",
    "# EFFICIENCY (avg of 20 runs)\n",
    "def eff(n):\n",
    "    sum = 0\n",
    "    sims = 20 # number of repeat simulations\n",
    "    time = 500 # simulation duration\n",
    "    for x in range(sims):\n",
    "        exit = exitno(n,time)\n",
    "        sum += exit\n",
    "    avg = sum/(sims*time)\n",
    "    flow = round(avg * 3600)\n",
    "    eff = flow / (14400 / (n+1))\n",
    "    return eff"
   ]
  },
  {
   "cell_type": "code",
   "execution_count": 16,
   "metadata": {},
   "outputs": [
    {
     "data": {
      "image/png": "[encoded data removed]",
      "text/plain": [
       "<Figure size 432x288 with 1 Axes>"
      ]
     },
     "metadata": {
      "needs_background": "light"
     },
     "output_type": "display_data"
    }
   ],
   "source": [
    "plt.plot([den(1),den(3),den(4),den(5),den(7),den(9),den(11),den(15)],\n",
    "         [outflow(1),outflow(3),outflow(4),outflow(5),outflow(7),outflow(9),outflow(11),outflow(15)])\n",
    "plt.xlabel('k / (vehicles/km)')\n",
    "plt.ylabel('q / (vehicles/hr')\n",
    "plt.show()"
   ]
  },
  {
   "cell_type": "markdown",
   "metadata": {},
   "source": [
    "As we can see, the outflow increases with density and then decreases.  This result is consistent with the traigular fundamental diagram in traffic flow theory."
   ]
  },
  {
   "cell_type": "code",
   "execution_count": 17,
   "metadata": {},
   "outputs": [
    {
     "data": {
      "image/png": "[encoded data removed]",
      "text/plain": [
       "<Figure size 432x288 with 1 Axes>"
      ]
     },
     "metadata": {
      "needs_background": "light"
     },
     "output_type": "display_data"
    }
   ],
   "source": [
    "plt.plot([den(1),den(3),den(4),den(5),den(7),den(9),den(11),den(15)],\n",
    "         [eff(1),eff(3),eff(4),eff(5),eff(7),eff(9),eff(11),eff(15)])\n",
    "\n",
    "plt.xlabel('k / (vehicles/km)')\n",
    "plt.ylabel('intersection efficiency')\n",
    "plt.show()"
   ]
  },
  {
   "cell_type": "markdown",
   "metadata": {},
   "source": [
    "The efficiency of the intersection decreases with vehicle density.  When the vehicle density is 80 vehicle/km, the efficiency of the intersection is only 0.5.  So if an intersection has a high traffic flow rate, traffic control is needed for this intersection."
   ]
  },
  {
   "cell_type": "markdown",
   "metadata": {},
   "source": [
    "### Case 2: Signal control"
   ]
  },
  {
   "cell_type": "markdown",
   "metadata": {},
   "source": [
    "By changing the input_map variable, we can add signal control to the intersecion.  Here we present an example with a spawn interval of 2 seconds and traffic light signal of 4 seconds.  At the beginning, the northbound/southbound direction is assigned a green signal and the other direction is assigned a red signal.  From the simulation results, we can see that even when the traffic inflow rate is so high, the intersection can function well."
   ]
  },
  {
   "cell_type": "markdown",
   "metadata": {},
   "source": [
    "#### Visulization"
   ]
  },
  {
   "cell_type": "code",
   "execution_count": 18,
   "metadata": {},
   "outputs": [
    {
     "name": "stdout",
     "output_type": "stream",
     "text": [
      "time 0\n"
     ]
    },
    {
     "data": {
      "image/png": "[encoded data removed]",
      "text/plain": [
       "<Figure size 432x288 with 1 Axes>"
      ]
     },
     "metadata": {
      "needs_background": "light"
     },
     "output_type": "display_data"
    },
    {
     "name": "stdout",
     "output_type": "stream",
     "text": [
      "time 1\n"
     ]
    },
    {
     "data": {
      "image/png": "[encoded data removed]",
      "text/plain": [
       "<Figure size 432x288 with 1 Axes>"
      ]
     },
     "metadata": {
      "needs_background": "light"
     },
     "output_type": "display_data"
    },
    {
     "name": "stdout",
     "output_type": "stream",
     "text": [
      "time 2\n"
     ]
    },
    {
     "data": {
      "image/png": "[encoded data removed]",
      "text/plain": [
       "<Figure size 432x288 with 1 Axes>"
      ]
     },
     "metadata": {
      "needs_background": "light"
     },
     "output_type": "display_data"
    },
    {
     "name": "stdout",
     "output_type": "stream",
     "text": [
      "time 3\n"
     ]
    },
    {
     "data": {
      "image/png": "[encoded data removed]",
      "text/plain": [
       "<Figure size 432x288 with 1 Axes>"
      ]
     },
     "metadata": {
      "needs_background": "light"
     },
     "output_type": "display_data"
    },
    {
     "name": "stdout",
     "output_type": "stream",
     "text": [
      "time 4\n"
     ]
    },
    {
     "data": {
      "image/png": "[encoded data removed]",
      "text/plain": [
       "<Figure size 432x288 with 1 Axes>"
      ]
     },
     "metadata": {
      "needs_background": "light"
     },
     "output_type": "display_data"
    },
    {
     "name": "stdout",
     "output_type": "stream",
     "text": [
      "time 5\n"
     ]
    },
    {
     "data": {
      "image/png": "[encoded data removed]",
      "text/plain": [
       "<Figure size 432x288 with 1 Axes>"
      ]
     },
     "metadata": {
      "needs_background": "light"
     },
     "output_type": "display_data"
    },
    {
     "name": "stdout",
     "output_type": "stream",
     "text": [
      "time 6\n"
     ]
    },
    {
     "data": {
      "image/png": "[encoded data removed]",
      "text/plain": [
       "<Figure size 432x288 with 1 Axes>"
      ]
     },
     "metadata": {
      "needs_background": "light"
     },
     "output_type": "display_data"
    },
    {
     "name": "stdout",
     "output_type": "stream",
     "text": [
      "time 7\n"
     ]
    },
    {
     "data": {
      "image/png": "[encoded data removed]",
      "text/plain": [
       "<Figure size 432x288 with 1 Axes>"
      ]
     },
     "metadata": {
      "needs_background": "light"
     },
     "output_type": "display_data"
    },
    {
     "name": "stdout",
     "output_type": "stream",
     "text": [
      "time 8\n"
     ]
    },
    {
     "data": {
      "image/png": "[encoded data removed]",
      "text/plain": [
       "<Figure size 432x288 with 1 Axes>"
      ]
     },
     "metadata": {
      "needs_background": "light"
     },
     "output_type": "display_data"
    },
    {
     "name": "stdout",
     "output_type": "stream",
     "text": [
      "time 9\n"
     ]
    },
    {
     "data": {
      "image/png": "[encoded data removed]",
      "text/plain": [
       "<Figure size 432x288 with 1 Axes>"
      ]
     },
     "metadata": {
      "needs_background": "light"
     },
     "output_type": "display_data"
    }
   ],
   "source": [
    "import numpy as np\n",
    "import matplotlib.pyplot as plt\n",
    "n = 1 # spawn interval - 1\n",
    "TL = 4 # half cycle of traffic signal\n",
    "input_map = [[X, X, X, road(S, n, 2, spawndelay = random.randint(1,n)), road(N), X, X, X],\n",
    "\t\t\t\t [X, X, X, road(S), road(N), X, X, X],\n",
    "\t\t\t\t [X, X, X, road(S,trafficlight=TL,trafficlight_stop=TL,trafficlightinit=True), road(N), X, X, X],\n",
    "\t\t\t\t [road(W), road(W), road(W), road(SW), road(NW), road(W,trafficlight=TL,trafficlight_stop=TL,trafficlightinit=False), road(W), road(W, n, 3, spawndelay = random.randint(1,n))],\n",
    "\t\t\t\t [road(E, n, 1, spawndelay = random.randint(1,n)), road(E), road(E,trafficlight=TL,trafficlight_stop=TL,trafficlightinit=False), road(SE), road(NE), road(E), road(E), road(E)],\n",
    "\t\t\t\t [X, X, X, road(S), road(N,trafficlight=TL,trafficlight_stop=TL,trafficlightinit=True), X, X, X],\n",
    "\t\t\t\t [X, X, X, road(S), road(N), X, X, X],\n",
    "\t\t\t\t [X, X, X, road(S), road(N, n, 0, spawndelay = random.randint(1,n)), X, X, X]\n",
    "\t\t\t\t ]\n",
    "\n",
    "game = map(input_map)\n",
    "game.update()\n",
    "for x in range(10):\n",
    "        game.update()\n",
    "        print (\"time\",x)\n",
    "        game.plot()\n"
   ]
  },
  {
   "cell_type": "markdown",
   "metadata": {},
   "source": [
    "#### Quantify the outflow"
   ]
  },
  {
   "cell_type": "code",
   "execution_count": 19,
   "metadata": {},
   "outputs": [],
   "source": [
    "### calculate out flow for the traffic signal case for one time\n",
    "import random\n",
    "def exitnoTL(n, time, TL):\n",
    "    input_map = [[X, X, X, road(S, n, 2, spawndelay = random.randint(1,n)), road(N), X, X, X],\n",
    "\t\t\t\t [X, X, X, road(S), road(N), X, X, X],\n",
    "\t\t\t\t [X, X, X, road(S,trafficlight=TL,trafficlight_stop=TL,trafficlightinit=True), road(N), X, X, X],\n",
    "\t\t\t\t [road(W), road(W), road(W), road(SW), road(NW), road(W,trafficlight=TL,trafficlight_stop=TL,trafficlightinit=False), road(W), road(W, n, 3, spawndelay = random.randint(1,n))],\n",
    "\t\t\t\t [road(E, n, 1, spawndelay = random.randint(1,n)), road(E), road(E,trafficlight=TL,trafficlight_stop=TL,trafficlightinit=False), road(SE), road(NE), road(E), road(E), road(E)],\n",
    "\t\t\t\t [X, X, X, road(S), road(N,trafficlight=TL,trafficlight_stop=TL,trafficlightinit=True), X, X, X],\n",
    "\t\t\t\t [X, X, X, road(S), road(N), X, X, X],\n",
    "\t\t\t\t [X, X, X, road(S), road(N, n, 0, spawndelay = random.randint(1,n)), X, X, X]\n",
    "\t\t\t\t ]\n",
    "    game = map(input_map)    \n",
    "    \n",
    "    for x in range(time):\n",
    "        game.update()\n",
    "    return game.exitcount     "
   ]
  },
  {
   "cell_type": "code",
   "execution_count": 20,
   "metadata": {},
   "outputs": [],
   "source": [
    "# AVG OUTFLOW of 20 runs for the traffic signal case\n",
    "def outflowTL(n, TL):\n",
    "    sum = 0\n",
    "    sims = 20 # number of repeat simulations\n",
    "    time = 500 # simulation duration\n",
    "    for x in range(sims):\n",
    "        exit = exitnoTL(n,time,TL)\n",
    "        sum += exit\n",
    "    avg = sum/(sims*time)\n",
    "    flow = round(avg * 3600)\n",
    "    return flow\n",
    "\n",
    "# AVG EFFICIENCY of 20 runs for the traffic signal case\n",
    "def effTL(n, TL):\n",
    "    sum = 0\n",
    "    sims = 20 # number of repeat simulations\n",
    "    time = 500 # simulation duration\n",
    "    for x in range(sims):\n",
    "        exit = exitnoTL(n,time,TL)\n",
    "        sum += exit\n",
    "    avg = sum/(sims*time)\n",
    "    flow = round(avg * 3600)\n",
    "    eff = flow / (14400 / (n+1))\n",
    "    return eff"
   ]
  },
  {
   "cell_type": "markdown",
   "metadata": {},
   "source": [
    "#### Draw flow-density curve for the traffic signal case"
   ]
  },
  {
   "cell_type": "markdown",
   "metadata": {},
   "source": [
    "Flow-density function plot at an intersection with traffic signal control"
   ]
  },
  {
   "cell_type": "code",
   "execution_count": 21,
   "metadata": {},
   "outputs": [
    {
     "data": {
      "image/png": "[encoded data removed]",
      "text/plain": [
       "<Figure size 432x288 with 1 Axes>"
      ]
     },
     "metadata": {
      "needs_background": "light"
     },
     "output_type": "display_data"
    }
   ],
   "source": [
    "TL = 10\n",
    "plt.plot([den(1),den(3),den(4),den(5),den(7),den(9),den(11),den(15)],\n",
    "         [outflowTL(1,TL),outflowTL(3,TL),outflowTL(4,TL),outflowTL(5,TL),outflowTL(7,TL),\n",
    "          outflowTL(9,TL),outflowTL(11,TL),outflowTL(15,TL)])\n",
    "plt.xlabel('k / (vehicles/km)')\n",
    "plt.ylabel('q / (vehicles/hr')\n",
    "plt.show()"
   ]
  },
  {
   "cell_type": "markdown",
   "metadata": {},
   "source": [
    "Efficiency-density function plot at an intersection with traffic signal control"
   ]
  },
  {
   "cell_type": "code",
   "execution_count": 22,
   "metadata": {},
   "outputs": [
    {
     "data": {
      "image/png": "[encoded data removed]",
      "text/plain": [
       "<Figure size 432x288 with 1 Axes>"
      ]
     },
     "metadata": {
      "needs_background": "light"
     },
     "output_type": "display_data"
    }
   ],
   "source": [
    "TL = 10\n",
    "plt.plot([den(1),den(3),den(4),den(5),den(7),den(9),den(11),den(15)],\n",
    "         [effTL(1,TL),effTL(3,TL),effTL(4,TL),effTL(5,TL),effTL(7,TL),\n",
    "          effTL(9,TL),effTL(11,TL),effTL(15,TL)])\n",
    "plt.xlabel('k / (vehicles/km)')\n",
    "plt.ylabel('intersection efficiency')\n",
    "plt.show()"
   ]
  },
  {
   "cell_type": "markdown",
   "metadata": {},
   "source": [
    "Notice that compared to the no-control case, the efficiency of the intersection has been improved from 0.1 to 0.4 given a 120 vehicle/km density."
   ]
  },
  {
   "cell_type": "markdown",
   "metadata": {},
   "source": [
    "#### How to optimize the intersection efficiency by adjusting the signal cycle lengh?"
   ]
  },
  {
   "cell_type": "markdown",
   "metadata": {},
   "source": [
    "In this plot, we show how the cycle length effects the efficiency of the intersection at an density of 80 vehicle/km (spawn interval in the code should be set to 4)"
   ]
  },
  {
   "cell_type": "code",
   "execution_count": 24,
   "metadata": {},
   "outputs": [
    {
     "data": {
      "image/png": "[encoded data removed]",
      "text/plain": [
       "<Figure size 432x288 with 1 Axes>"
      ]
     },
     "metadata": {
      "needs_background": "light"
     },
     "output_type": "display_data"
    }
   ],
   "source": [
    "sp = 4\n",
    "plt.plot([5,10,15,20,25,30,35,40],\n",
    "         [effTL(sp,5),effTL(sp,10),effTL(sp,15),effTL(sp,20),effTL(sp,25),\n",
    "          effTL(sp,30),effTL(sp,35),effTL(sp,40)])\n",
    "plt.xlabel('half cycle length / (second)')\n",
    "plt.ylabel('intersection efficiency')\n",
    "plt.show()"
   ]
  },
  {
   "cell_type": "markdown",
   "metadata": {},
   "source": [
    "The plot shows us that in order to maximize the efficiency of the intersection, the signal cycle length should be set as small as possible.  \n",
    "\n",
    "However, this is not usually the case in the industry, due to the start-up lost time.  Because when vehicle accelerate at the intersection from a complete stop, there is much time lost such that we do not want to change cycles so frequently.  If we would like to get more accurate results, we can code the start-up lost time into the program.  "
   ]
  },
  {
   "cell_type": "markdown",
   "metadata": {},
   "source": [
    "### Case 3: Signal control and designated right-turn lanes"
   ]
  },
  {
   "cell_type": "markdown",
   "metadata": {},
   "source": [
    "Another intersection control method is to add designated right turn lanes to the intersection, such that vehicles turning right do not need to conflict with other vehicles.  Such that right turn vehicles can go at the red light.  In the code, we can implement the right turn lanes by changing the input_map variable. "
   ]
  },
  {
   "cell_type": "markdown",
   "metadata": {},
   "source": [
    "#### Visulization"
   ]
  },
  {
   "cell_type": "code",
   "execution_count": 25,
   "metadata": {},
   "outputs": [
    {
     "name": "stdout",
     "output_type": "stream",
     "text": [
      "time 0\n"
     ]
    },
    {
     "data": {
      "image/png": "[encoded data removed]",
      "text/plain": [
       "<Figure size 432x288 with 1 Axes>"
      ]
     },
     "metadata": {
      "needs_background": "light"
     },
     "output_type": "display_data"
    },
    {
     "name": "stdout",
     "output_type": "stream",
     "text": [
      "time 1\n"
     ]
    },
    {
     "data": {
      "image/png": "[encoded data removed]",
      "text/plain": [
       "<Figure size 432x288 with 1 Axes>"
      ]
     },
     "metadata": {
      "needs_background": "light"
     },
     "output_type": "display_data"
    },
    {
     "name": "stdout",
     "output_type": "stream",
     "text": [
      "time 2\n"
     ]
    },
    {
     "data": {
      "image/png": "[encoded data removed]",
      "text/plain": [
       "<Figure size 432x288 with 1 Axes>"
      ]
     },
     "metadata": {
      "needs_background": "light"
     },
     "output_type": "display_data"
    },
    {
     "name": "stdout",
     "output_type": "stream",
     "text": [
      "time 3\n"
     ]
    },
    {
     "data": {
      "image/png": "[encoded data removed]",
      "text/plain": [
       "<Figure size 432x288 with 1 Axes>"
      ]
     },
     "metadata": {
      "needs_background": "light"
     },
     "output_type": "display_data"
    },
    {
     "name": "stdout",
     "output_type": "stream",
     "text": [
      "time 4\n"
     ]
    },
    {
     "data": {
      "image/png": "[encoded data removed]",
      "text/plain": [
       "<Figure size 432x288 with 1 Axes>"
      ]
     },
     "metadata": {
      "needs_background": "light"
     },
     "output_type": "display_data"
    },
    {
     "name": "stdout",
     "output_type": "stream",
     "text": [
      "time 5\n"
     ]
    },
    {
     "data": {
      "image/png": "[encoded data removed]",
      "text/plain": [
       "<Figure size 432x288 with 1 Axes>"
      ]
     },
     "metadata": {
      "needs_background": "light"
     },
     "output_type": "display_data"
    },
    {
     "name": "stdout",
     "output_type": "stream",
     "text": [
      "time 6\n"
     ]
    },
    {
     "data": {
      "image/png": "[encoded data removed]",
      "text/plain": [
       "<Figure size 432x288 with 1 Axes>"
      ]
     },
     "metadata": {
      "needs_background": "light"
     },
     "output_type": "display_data"
    },
    {
     "name": "stdout",
     "output_type": "stream",
     "text": [
      "time 7\n"
     ]
    },
    {
     "data": {
      "image/png": "[encoded data removed]",
      "text/plain": [
       "<Figure size 432x288 with 1 Axes>"
      ]
     },
     "metadata": {
      "needs_background": "light"
     },
     "output_type": "display_data"
    },
    {
     "name": "stdout",
     "output_type": "stream",
     "text": [
      "time 8\n"
     ]
    },
    {
     "data": {
      "image/png": "[encoded data removed]",
      "text/plain": [
       "<Figure size 432x288 with 1 Axes>"
      ]
     },
     "metadata": {
      "needs_background": "light"
     },
     "output_type": "display_data"
    },
    {
     "name": "stdout",
     "output_type": "stream",
     "text": [
      "time 9\n"
     ]
    },
    {
     "data": {
      "image/png": "[encoded data removed]",
      "text/plain": [
       "<Figure size 432x288 with 1 Axes>"
      ]
     },
     "metadata": {
      "needs_background": "light"
     },
     "output_type": "display_data"
    }
   ],
   "source": [
    "import numpy as np\n",
    "import matplotlib.pyplot as plt\n",
    "\n",
    "input_map = [[X, X, X, road(S,0,2), road(N), X, X, X],\n",
    "\t\t\t\t [X, X, road(S), road(SW), road(N), X, X, X],\n",
    "\t\t\t\t [X, X, road(S), road(S, trafficlight=10, trafficlight_stop=10, trafficlightinit=True), road(N), road(W), road(W), X],\n",
    "\t\t\t\t [road(W), road(W), road(W), road(SW), road(NW),road(W, trafficlight=10, trafficlight_stop=10, trafficlightinit=False), road(NW), road(W,1,3)],\n",
    "\t\t\t\t [road(E,1,1), road(SE), road(E, trafficlight=10, trafficlight_stop=10, trafficlightinit=False),road(SE), road(NE), road(E), road(E), road(E)],\n",
    "\t\t\t\t [X, road(E), road(E), road(S), road(N, trafficlight=10, trafficlight_stop=10, trafficlightinit=True), road(N), X, X],\n",
    "\t\t\t\t [X, X, X, road(S), road(NE), road(N), X, X],\n",
    "\t\t\t\t [X, X, X, road(S), road(N, 0, 0), X, X, X]\n",
    "\t\t\t\t ]\n",
    "game = map(input_map)\n",
    "for x in range(10):\n",
    "        game.update()\n",
    "        print (\"time\",x)\n",
    "        game.plot()"
   ]
  },
  {
   "cell_type": "markdown",
   "metadata": {},
   "source": [
    "#### Quantify the outflow"
   ]
  },
  {
   "cell_type": "markdown",
   "metadata": {},
   "source": [
    "Here we write functions to calculate the efficiency of the intersection with designated right turn lanes:"
   ]
  },
  {
   "cell_type": "code",
   "execution_count": 26,
   "metadata": {},
   "outputs": [],
   "source": [
    "## calculate outflow for designated right turn lanes case for one time\n",
    "import random\n",
    "def exitnoRT(n, time, TL):\n",
    "    input_map = [[X, X, X, road(S, n, 2, spawndelay = random.randint(1,n)), road(N), X, X, X],\n",
    "\t\t\t\t [X, X, road(S), road(SW), road(N), X, X, X],\n",
    "\t\t\t\t [X, X, road(S), road(S,trafficlight=TL,trafficlight_stop=TL,trafficlightinit=True), road(N), road(W), road(W), X],\n",
    "\t\t\t\t [road(W), road(W), road(W), road(SW), road(NW),road(W,trafficlight=TL,trafficlight_stop=TL,trafficlightinit=False), road(NW), road(W, n, 3, spawndelay = random.randint(1,n))],\n",
    "\t\t\t\t [road(E, n, 1, spawndelay = random.randint(1,n)), road(SE),road(E,trafficlight=TL,trafficlight_stop=TL,trafficlightinit=False),road(SE), road(NE), road(E), road(E), road(E)],\n",
    "\t\t\t\t [X, road(E), road(E), road(S), road(N,trafficlight=TL,trafficlight_stop=TL,trafficlightinit=True), road(N), X, X],\n",
    "\t\t\t\t [X, X, X, road(S), road(NE), road(N), X, X],\n",
    "\t\t\t\t [X, X, X, road(S), road(N, n, 0, spawndelay = random.randint(1,n)), X, X, X]\n",
    "\t\t\t\t ]  \n",
    "    game = map(input_map)    \n",
    "    \n",
    "    for x in range(time):\n",
    "        game.update()\n",
    "    return game.exitcount   "
   ]
  },
  {
   "cell_type": "code",
   "execution_count": 28,
   "metadata": {},
   "outputs": [],
   "source": [
    "# AVG OUTFLOW FOR RT case in 20 runs \n",
    "def outflowRT(n, TL):\n",
    "    sum = 0\n",
    "    sims = 20 # number of repeat simulations\n",
    "    time = 500 # simulation duration\n",
    "    for x in range(sims):\n",
    "        exit = exitnoRT(n,time,TL)\n",
    "        sum += exit\n",
    "    avg = sum/(sims*time)\n",
    "    flow = round(avg * 3600)\n",
    "    return flow\n",
    "\n",
    "# AVG EFFICIENCY FOR RT case in 20 runs\n",
    "def effRT(n, TL):\n",
    "    sum = 0\n",
    "    sims = 20 # number of repeat simulations\n",
    "    time = 500 # simulation duration\n",
    "    for x in range(sims):\n",
    "        exit = exitnoRT(n,time,TL)\n",
    "        sum += exit\n",
    "    avg = sum/(sims*time)\n",
    "    flow = round(avg * 3600)\n",
    "    eff = flow / (14400 / (n+1))\n",
    "    return eff"
   ]
  },
  {
   "cell_type": "markdown",
   "metadata": {},
   "source": [
    "Flow-density curve for the designated right-turn lane case"
   ]
  },
  {
   "cell_type": "code",
   "execution_count": 29,
   "metadata": {},
   "outputs": [
    {
     "data": {
      "image/png": "[encoded data removed]",
      "text/plain": [
       "<Figure size 432x288 with 1 Axes>"
      ]
     },
     "metadata": {
      "needs_background": "light"
     },
     "output_type": "display_data"
    }
   ],
   "source": [
    "TL = 10\n",
    "plt.plot([den(1),den(3),den(4),den(5),den(7),den(9),den(11),den(15)],\n",
    "         [outflowRT(1,TL),outflowRT(3,TL),outflowRT(4,TL),outflowRT(5,TL),outflowRT(7,TL),\n",
    "          outflowRT(9,TL),outflowRT(11,TL),outflowRT(15,TL)])\n",
    "plt.xlabel('k / (vehicles/km)')\n",
    "plt.ylabel('q / (vehicles/hr')\n",
    "plt.show()"
   ]
  },
  {
   "cell_type": "markdown",
   "metadata": {},
   "source": [
    "Efficiency-density curve for the designated right-turn lane case"
   ]
  },
  {
   "cell_type": "code",
   "execution_count": 30,
   "metadata": {},
   "outputs": [
    {
     "data": {
      "image/png": "[encoded data removed]",
      "text/plain": [
       "<Figure size 432x288 with 1 Axes>"
      ]
     },
     "metadata": {
      "needs_background": "light"
     },
     "output_type": "display_data"
    }
   ],
   "source": [
    "TL = 10\n",
    "plt.plot([den(1),den(3),den(4),den(5),den(7),den(9),den(11),den(15)],\n",
    "         [effRT(1,TL),effRT(3,TL),effRT(4,TL),effRT(5,TL),effRT(7,TL),\n",
    "          effRT(9,TL),effRT(11,TL),effRT(15,TL)])\n",
    "plt.xlabel('k / (vehicles/km)')\n",
    "plt.ylabel('q / (vehicles/hr')\n",
    "plt.show()"
   ]
  },
  {
   "cell_type": "markdown",
   "metadata": {},
   "source": [
    "### Comparision between three control types"
   ]
  },
  {
   "cell_type": "markdown",
   "metadata": {},
   "source": [
    "In this section, we compare different control types."
   ]
  },
  {
   "cell_type": "code",
   "execution_count": 31,
   "metadata": {},
   "outputs": [
    {
     "data": {
      "image/png": "[encoded data removed]",
      "text/plain": [
       "<Figure size 432x288 with 1 Axes>"
      ]
     },
     "metadata": {
      "needs_background": "light"
     },
     "output_type": "display_data"
    }
   ],
   "source": [
    "TL = 10\n",
    "\n",
    "plt.plot([den(1),den(3),den(4),den(5),den(7),den(9),den(11),den(15)],\n",
    "         [outflow(1),outflow(3),outflow(4),outflow(5),outflow(7),outflow(9),outflow(11),outflow(15)],label='no control')\n",
    "\n",
    "plt.plot([den(1),den(3),den(4),den(5),den(7),den(9),den(11),den(15)],\n",
    "         [outflowTL(1,TL),outflowTL(3,TL),outflowTL(4,TL),outflowTL(5,TL),outflowTL(7,TL),\n",
    "          outflowTL(9,TL),outflowTL(11,TL),outflowTL(15,TL)],'r-',label='no control')\n",
    "\n",
    "plt.plot([den(1),den(3),den(4),den(5),den(7),den(9),den(11),den(15)],\n",
    "         [outflowRT(1,TL),outflowRT(3,TL),outflowRT(4,TL),outflowRT(5,TL),outflowRT(7,TL),\n",
    "          outflowRT(9,TL),outflowRT(11,TL),outflowRT(15,TL)],'g-',label='right-turn lane')\n",
    "\n",
    "plt.xlabel('k / (vehicles/km)')\n",
    "plt.ylabel('q / (vehicles/hr')\n",
    "plt.legend()\n",
    "plt.show()"
   ]
  },
  {
   "cell_type": "markdown",
   "metadata": {},
   "source": [
    "### Recommendations"
   ]
  },
  {
   "cell_type": "markdown",
   "metadata": {},
   "source": [
    "From the output, we draw the following conclusions:\n",
    "\n",
    "(i) We recommend no-control for intersections with traffic flow density less than 40 vehicle/km.  \n",
    "\n",
    "(ii) We recommend signal control for intersections with traffic flow density higher than 40 vehicle/km. \n",
    "\n",
    "(iii) The cycle length of the traffic signal should be as low as possible.\n",
    "\n",
    "(iv) A designated right turn lane improves the intersection capacity, but not much."
   ]
  },
  {
   "cell_type": "markdown",
   "metadata": {},
   "source": [
    "### Future work"
   ]
  },
  {
   "cell_type": "markdown",
   "metadata": {},
   "source": [
    "In our recommendation, we did not consider safety factors and we did not quantify the influence ofs start-up lost time.  We can also study whether we can benefit more from designated right-turn lane if the percent of right-turn vehicles increases."
   ]
  }
 ],
 "metadata": {
  "kernelspec": {
   "display_name": "Python 3",
   "language": "python",
   "name": "python3"
  },
  "language_info": {
   "codemirror_mode": {
    "name": "ipython",
    "version": 3
   },
   "file_extension": ".py",
   "mimetype": "text/x-python",
   "name": "python",
   "nbconvert_exporter": "python",
   "pygments_lexer": "ipython3",
   "version": "3.7.1"
  }
 },
 "nbformat": 4,
 "nbformat_minor": 2
}
